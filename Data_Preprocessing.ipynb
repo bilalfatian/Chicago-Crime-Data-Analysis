{
 "cells": [
  {
   "cell_type": "markdown",
   "metadata": {},
   "source": [
    "# Chicago Crime Data Analysis\n",
    "\n",
    "\n",
    "\n",
    "Written by Bilal Fatian\n",
    "\n",
    "\n",
    "This notebook forms a segment of the \"Chicago Crime Data Analysis\" project available on [my Github](https://github.com/bilalfatian/Chicago-Crime-Data-Analysis)."
   ]
  },
  {
   "cell_type": "markdown",
   "metadata": {},
   "source": [
    "# Data Preprocessing\n",
    "As of 5/3/2024, the [dataset](https://data.cityofchicago.org/Public-Safety/Crimes-2001-to-present/ijzp-q8t2) provided by the city of Chicago on crime (excluding murders) contains over 8 millions rows and 22 columns. This [dataset](https://data.cityofchicago.org/Public-Safety/Homicides/k9xv-yxzs) contained the homicides, about 10,000, from the last 20 years. To facilitate early exploration of the data and focus on more recent, relevant trends, I removed crimes from before 2014, unneeded columns, and rows with nulls. The reduced dataset contained just under 3 million rows of crimes  \n",
    "  \n",
    "After reducing the size of the dataset, I cleaned up the text columns by manually matching values of each column with a smaller subset of categories in excel, mapped the Community Area ID's to their name and group (e.g. Community Area 8 maps to Near North Side and Central) based on [this](https://en.wikipedia.org/wiki/Community_areas_in_Chicago) Wikipedia page, and added some categorical columns based on the date of the crime.  \n",
    "\n",
    "Also added in the Community Area population sizes from the [2010 Census](https://www.chicago.gov/content/dam/city/depts/zlup/Zoning_Main_Page/Publications/Census_2010_Community_Area_Profiles/Census_2010_and_2000_CA_Populations.pdf) to allow for an approximated Crimes/Homicides per Capita calculation. Unfortunately, this data isn't provided year over year and as of 5/3/2024, the 2024 Census isn't available, which is why I needed to use 2010 population sizes."
   ]
  },
  {
   "cell_type": "markdown",
   "metadata": {},
   "source": [
    "## Table of Contents\n",
    "- [Dataset Description](#original_desc)  \n",
    "- [Reading in the Original Datasets and Combining Them](#read_in)  \n",
    "- [Reducing the Number of Crimes](#reduce)  \n",
    "- [Removing Unneeded Columns](#unneeded_columns)\n",
    "- [Cleaning Up Text Columns](#clean_up)\n",
    "- [Pulling in Community Area Names and Regions](#community_areas)\n",
    "- [Creating New Datetime Columns based on the Date of the Crime](#date_columns)\n",
    "- [Dropping Nulls from the Dataset](#nulls)\n",
    "- [Saving the Cleaned Dataset](#saving)"
   ]
  },
  {
   "cell_type": "markdown",
   "metadata": {},
   "source": [
    "<a id=\"original_desc\">  "
   ]
  },
  {
   "cell_type": "markdown",
   "metadata": {},
   "source": [
    "## Dataset Description:\n",
    "These are the original column descriptions from the City of Chicago \n",
    "[website](https://data.cityofchicago.org/Public-Safety/Crimes-2001-to-present/ijzp-q8t2)  "
   ]
  },
  {
   "cell_type": "markdown",
   "metadata": {},
   "source": [
    "| Column Name  | Column Description |  \n",
    "| :-:    | :-: |  \n",
    "| ID           | Unique identifier for the record |\n",
    "| Case Number  | The Chicago Police Department Records Division Number |\n",
    "| Date         | Date when the incident occurred (sometimes an estimate) |\n",
    "| Block        | The partially redacted address where the incident occurred, placing it on the same block as the actual address |\n",
    "| IUCR         | Illinois Uniform Crime Reporting code |\n",
    "| Primary Type | The primary description of the IUCR code |\n",
    "| Description  | The secondary description of the IUCR code, a subcategory of the primary description |\n",
    "| Location Description | Description of the location where the incident occurred |\n",
    "| Arrest | Indicates whether an arrest was made |\n",
    "| Domestic | Indicates whether the incident was domestic-related as defined by the Illinois Domestic Violence act |\n",
    "| Beat | Indicates the beat where the incident occurred. A beat is the smallest police geographic area. 3 to 5 beats make up a police sector, and 3 sectors make up a police district |\n",
    "| District | Indicates the police district where the incident occurred |\n",
    "| Ward | The ward (City Council district) where the incident occurred |\n",
    "| Community Area | Indicates the community area where the incident occurred (Chicago has 77 community areas) |\n",
    "| FBI Code | Indicates the crime classification as outlined in the FBI's National Incident-Based Reporting System (NIBRS) |\n",
    "| X Coordinate | The x coordinate of the location where the incident occurred in State Plane Illinois East NAD 1983 projection. This location is shifted from the actual location for partial redaction but falls on the same block |\n",
    "| Y Coordinate | The y coordinate of the location where the incident occurred in State Plane Illinois East NAD 1983 projection. This location is shifted from the actual location for partial redaction but falls on the same block |\n",
    "| Year | The year the incident occurred |\n",
    "| Updated On | Date and time the record was last updated |\n",
    "| Latitude | The latitude of the location where the incident occurred. This location is shifted from the actual location for partial redaction but falls on the same block |\n",
    "| Longitude | The longitude of the location where the incident occurred. This location is shifted from the actual location for partial redaction but falls on the same block |\n",
    "| Location | The location where the incident occurred in a format that allows for creation of maps and other geographic operations on this data portal. This location is shifted from the actual location for partial redaction but falls on the same block |"
   ]
  },
  {
   "cell_type": "markdown",
   "metadata": {},
   "source": [
    "<a id=\"read_in\">"
   ]
  },
  {
   "cell_type": "markdown",
   "metadata": {},
   "source": [
    "## Reading in the Original Datasets and Combining Them"
   ]
  },
  {
   "cell_type": "code",
   "execution_count": 1,
   "metadata": {},
   "outputs": [],
   "source": [
    "import pandas as pd\n",
    "import datetime as dt\n",
    "from dateutil.relativedelta import relativedelta\n",
    "\n",
    "import warnings\n",
    "warnings.filterwarnings('ignore')"
   ]
  },
  {
   "cell_type": "code",
   "execution_count": 5,
   "metadata": {},
   "outputs": [],
   "source": [
    "crimes_general = pd.read_csv(\"./Data/Crimes_-_2001_to_Present_20240504.csv\", parse_dates=['Date'])\n",
    "crimes_murders = pd.read_csv(\"./Data/Homicides.csv\", parse_dates=['Date'])"
   ]
  },
  {
   "cell_type": "code",
   "execution_count": 6,
   "metadata": {
    "scrolled": false
   },
   "outputs": [],
   "source": [
    "#combining general crimes and homicides\n",
    "crimes = pd.concat([crimes_general, crimes_murders], ignore_index=True)\n",
    "\n",
    "#converting arrest column from boolean to int\n",
    "crimes['Arrest'] = crimes['Arrest'].astype(int)"
   ]
  },
  {
   "cell_type": "code",
   "execution_count": 7,
   "metadata": {},
   "outputs": [
    {
     "name": "stdout",
     "output_type": "stream",
     "text": [
      "There were 8,052,078 General Crimes from 2001-01-01 00:00:00 to 2024-04-26 00:00:00\n",
      "\n",
      "There were 13,174 Homicides from 2001-01-01 10:40:00 to 2024-04-23 20:23:00\n",
      "\n",
      "There were 8,065,252 Total Crimes from 2001-01-01 00:00:00 to 2024-04-26 00:00:00\n"
     ]
    }
   ],
   "source": [
    "print(\"There were {:,d} General Crimes from {} to {}\".format(crimes_general.shape[0],\n",
    "                                                           crimes_general.Date.min(),\n",
    "                                                           crimes_general.Date.max()))\n",
    "print()\n",
    "print(\"There were {:,d} Homicides from {} to {}\".format(crimes_murders.shape[0],\n",
    "                                                           crimes_murders.Date.min(),\n",
    "                                                           crimes_murders.Date.max()))\n",
    "print()\n",
    "print(\"There were {:,d} Total Crimes from {} to {}\".format(crimes.shape[0],\n",
    "                                                           crimes.Date.min(),\n",
    "                                                           crimes.Date.max()))"
   ]
  },
  {
   "cell_type": "markdown",
   "metadata": {},
   "source": [
    "<a id=\"reduce\">"
   ]
  },
  {
   "cell_type": "markdown",
   "metadata": {},
   "source": [
    "## Reducing the Number of Crimes\n",
    "\n",
    "Because of the large size of the original dataset, I am removing crimes from before 2014 to allow for relevant inferences to the present. I am also removing the crimes from 2024 so as to only include crimes that have had what I believe to be a reasonable amount of time to make an arrest."
   ]
  },
  {
   "cell_type": "code",
   "execution_count": 8,
   "metadata": {},
   "outputs": [
    {
     "name": "stdout",
     "output_type": "stream",
     "text": [
      "There were 2,615,025 of Crimes from 2014-01-01 00:00:00 to 2024-04-26 00:00:00\n"
     ]
    }
   ],
   "source": [
    "#removing crimes from over 10 years ago and the most recent 4 months\n",
    "crimes_cleaned = crimes[(crimes.Year >= 2014) & (crimes.Year <= 2024)].copy()\n",
    "\n",
    "#displaying the results\n",
    "print(\"There were {:,d} of Crimes from {} to {}\".format(crimes_cleaned.shape[0],\n",
    "                                                        crimes_cleaned.Date.min(),\n",
    "                                                        crimes_cleaned.Date.max()))"
   ]
  },
  {
   "cell_type": "markdown",
   "metadata": {},
   "source": [
    "<a id=\"unneeded_columns\">"
   ]
  },
  {
   "cell_type": "markdown",
   "metadata": {},
   "source": [
    "## Removing Unneeded Columns"
   ]
  },
  {
   "cell_type": "code",
   "execution_count": 9,
   "metadata": {},
   "outputs": [
    {
     "data": {
      "text/html": [
       "<div>\n",
       "<style scoped>\n",
       "    .dataframe tbody tr th:only-of-type {\n",
       "        vertical-align: middle;\n",
       "    }\n",
       "\n",
       "    .dataframe tbody tr th {\n",
       "        vertical-align: top;\n",
       "    }\n",
       "\n",
       "    .dataframe thead th {\n",
       "        text-align: right;\n",
       "    }\n",
       "</style>\n",
       "<table border=\"1\" class=\"dataframe\">\n",
       "  <thead>\n",
       "    <tr style=\"text-align: right;\">\n",
       "      <th></th>\n",
       "      <th>Date</th>\n",
       "      <th>Primary Type</th>\n",
       "      <th>Location Description</th>\n",
       "      <th>Arrest</th>\n",
       "      <th>Domestic</th>\n",
       "      <th>Community Area</th>\n",
       "      <th>Year</th>\n",
       "      <th>Latitude</th>\n",
       "      <th>Longitude</th>\n",
       "    </tr>\n",
       "  </thead>\n",
       "  <tbody>\n",
       "    <tr>\n",
       "      <th>1</th>\n",
       "      <td>2021-05-24 15:06:00</td>\n",
       "      <td>HOMICIDE</td>\n",
       "      <td>STREET</td>\n",
       "      <td>1</td>\n",
       "      <td>False</td>\n",
       "      <td>19.0</td>\n",
       "      <td>2021</td>\n",
       "      <td>41.917838</td>\n",
       "      <td>-87.755969</td>\n",
       "    </tr>\n",
       "    <tr>\n",
       "      <th>2</th>\n",
       "      <td>2021-06-26 09:24:00</td>\n",
       "      <td>HOMICIDE</td>\n",
       "      <td>PARKING LOT</td>\n",
       "      <td>1</td>\n",
       "      <td>False</td>\n",
       "      <td>13.0</td>\n",
       "      <td>2021</td>\n",
       "      <td>41.995219</td>\n",
       "      <td>-87.713355</td>\n",
       "    </tr>\n",
       "    <tr>\n",
       "      <th>3</th>\n",
       "      <td>2023-11-09 07:30:00</td>\n",
       "      <td>BURGLARY</td>\n",
       "      <td>APARTMENT</td>\n",
       "      <td>0</td>\n",
       "      <td>False</td>\n",
       "      <td>5.0</td>\n",
       "      <td>2023</td>\n",
       "      <td>41.952345</td>\n",
       "      <td>-87.677975</td>\n",
       "    </tr>\n",
       "    <tr>\n",
       "      <th>4</th>\n",
       "      <td>2023-11-12 07:59:00</td>\n",
       "      <td>BATTERY</td>\n",
       "      <td>SMALL RETAIL STORE</td>\n",
       "      <td>1</td>\n",
       "      <td>False</td>\n",
       "      <td>44.0</td>\n",
       "      <td>2023</td>\n",
       "      <td>41.737751</td>\n",
       "      <td>-87.604856</td>\n",
       "    </tr>\n",
       "    <tr>\n",
       "      <th>6</th>\n",
       "      <td>2023-09-06 17:00:00</td>\n",
       "      <td>CRIMINAL DAMAGE</td>\n",
       "      <td>PARKING LOT / GARAGE (NON RESIDENTIAL)</td>\n",
       "      <td>0</td>\n",
       "      <td>False</td>\n",
       "      <td>32.0</td>\n",
       "      <td>2023</td>\n",
       "      <td>41.886018</td>\n",
       "      <td>-87.633938</td>\n",
       "    </tr>\n",
       "  </tbody>\n",
       "</table>\n",
       "</div>"
      ],
      "text/plain": [
       "                 Date     Primary Type  \\\n",
       "1 2021-05-24 15:06:00         HOMICIDE   \n",
       "2 2021-06-26 09:24:00         HOMICIDE   \n",
       "3 2023-11-09 07:30:00         BURGLARY   \n",
       "4 2023-11-12 07:59:00          BATTERY   \n",
       "6 2023-09-06 17:00:00  CRIMINAL DAMAGE   \n",
       "\n",
       "                     Location Description  Arrest  Domestic  Community Area  \\\n",
       "1                                  STREET       1     False            19.0   \n",
       "2                             PARKING LOT       1     False            13.0   \n",
       "3                               APARTMENT       0     False             5.0   \n",
       "4                      SMALL RETAIL STORE       1     False            44.0   \n",
       "6  PARKING LOT / GARAGE (NON RESIDENTIAL)       0     False            32.0   \n",
       "\n",
       "   Year   Latitude  Longitude  \n",
       "1  2021  41.917838 -87.755969  \n",
       "2  2021  41.995219 -87.713355  \n",
       "3  2023  41.952345 -87.677975  \n",
       "4  2023  41.737751 -87.604856  \n",
       "6  2023  41.886018 -87.633938  "
      ]
     },
     "execution_count": 9,
     "metadata": {},
     "output_type": "execute_result"
    }
   ],
   "source": [
    "#creating a list of the columns to drop\n",
    "drop_cols = ['ID','Case Number', 'Block', 'Description', \n",
    "             'Beat', 'District', 'Ward', 'IUCR', 'FBI Code', \n",
    "             'Location', 'X Coordinate', 'Y Coordinate', \n",
    "             'Updated On']\n",
    "\n",
    "#dropping the columns\n",
    "crimes_cleaned.drop(labels=drop_cols, axis=1, inplace=True)\n",
    "\n",
    "#displaying the results\n",
    "crimes_cleaned.head()"
   ]
  },
  {
   "cell_type": "markdown",
   "metadata": {},
   "source": [
    "<a id=\"clean_up\">"
   ]
  },
  {
   "cell_type": "markdown",
   "metadata": {},
   "source": [
    "## Cleaning Up Text Columns"
   ]
  },
  {
   "cell_type": "markdown",
   "metadata": {},
   "source": [
    "### Primary Type"
   ]
  },
  {
   "cell_type": "code",
   "execution_count": 10,
   "metadata": {},
   "outputs": [
    {
     "data": {
      "text/plain": [
       "array(['HOMICIDE', 'BURGLARY', 'BATTERY', 'CRIMINAL DAMAGE',\n",
       "       'DECEPTIVE PRACTICE', 'CRIMINAL SEXUAL ASSAULT', 'THEFT',\n",
       "       'OFFENSE INVOLVING CHILDREN', 'MOTOR VEHICLE THEFT', 'ROBBERY',\n",
       "       'ASSAULT', 'SEX OFFENSE', 'OTHER OFFENSE', 'WEAPONS VIOLATION',\n",
       "       'STALKING', 'CRIMINAL TRESPASS', 'PROSTITUTION', 'ARSON',\n",
       "       'NARCOTICS', 'KIDNAPPING', 'CONCEALED CARRY LICENSE VIOLATION',\n",
       "       'INTERFERENCE WITH PUBLIC OFFICER', 'PUBLIC PEACE VIOLATION',\n",
       "       'OBSCENITY', 'LIQUOR LAW VIOLATION', 'INTIMIDATION', 'GAMBLING',\n",
       "       'HUMAN TRAFFICKING', 'OTHER NARCOTIC VIOLATION', 'NON-CRIMINAL',\n",
       "       'PUBLIC INDECENCY', 'CRIM SEXUAL ASSAULT', 'NON - CRIMINAL',\n",
       "       'NON-CRIMINAL (SUBJECT SPECIFIED)', 'RITUALISM'], dtype=object)"
      ]
     },
     "execution_count": 10,
     "metadata": {},
     "output_type": "execute_result"
    }
   ],
   "source": [
    "#original values\n",
    "crimes_cleaned['Primary Type'].unique()"
   ]
  },
  {
   "cell_type": "code",
   "execution_count": 11,
   "metadata": {},
   "outputs": [
    {
     "data": {
      "text/plain": [
       "array(['Homicide', 'Burglary', 'Battery', 'Criminal Damage',\n",
       "       'Deceptive Practice', 'Criminal Sexual Assault', 'Theft',\n",
       "       'Offense Involving Children', 'Motor Vehicle Theft', 'Robbery',\n",
       "       'Assault', 'Sex Offense', 'Other Offense', 'Weapons Violation',\n",
       "       'Stalking', 'Criminal Trespass', 'Prostitution', 'Arson',\n",
       "       'Narcotics', 'Kidnapping', 'Concealed Carry License Violation',\n",
       "       'Interference With Public Officer', 'Public Peace Violation',\n",
       "       'Obscenity', 'Liquor Law Violation', 'Intimidation', 'Gambling',\n",
       "       'Human Trafficking', 'Other Narcotic Violation', 'Non-Criminal',\n",
       "       'Public Indecency', 'Crim Sexual Assault', 'Ritualism'],\n",
       "      dtype=object)"
      ]
     },
     "execution_count": 11,
     "metadata": {},
     "output_type": "execute_result"
    }
   ],
   "source": [
    "#list of other values to group under \"NON-CRIMINAL\"\n",
    "non_criminal_list = ['NON - CRIMINAL','NON-CRIMINAL (SUBJECT SPECIFIED)']\n",
    "\n",
    "#replacing the other values with \"NON-CRIMINAL\"\n",
    "crimes_cleaned['Primary Type'].replace(to_replace = non_criminal_list,\n",
    "                                       value='NON-CRIMINAL', regex=False,\n",
    "                                       inplace=True)\n",
    "\n",
    "#Converting values to title case\n",
    "crimes_cleaned['Primary Type'] = crimes_cleaned['Primary Type'].str.title()\n",
    "\n",
    "#displaying the results\n",
    "crimes_cleaned['Primary Type'].unique()"
   ]
  },
  {
   "cell_type": "markdown",
   "metadata": {},
   "source": [
    "### Location Description"
   ]
  },
  {
   "cell_type": "code",
   "execution_count": 12,
   "metadata": {},
   "outputs": [
    {
     "data": {
      "text/plain": [
       "array(['STREET', 'PARKING LOT', 'APARTMENT', 'SMALL RETAIL STORE',\n",
       "       'PARKING LOT / GARAGE (NON RESIDENTIAL)', 'RESIDENCE - GARAGE',\n",
       "       'RESIDENCE - PORCH / HALLWAY', 'CURRENCY EXCHANGE', 'RESIDENCE',\n",
       "       'AUTO / BOAT / RV DEALERSHIP',\n",
       "       'POLICE FACILITY / VEHICLE PARKING LOT', 'DEPARTMENT STORE',\n",
       "       'CHA PARKING LOT / GROUNDS', 'RESTAURANT', 'GROCERY FOOD STORE',\n",
       "       'APPLIANCE STORE', 'CAR WASH', 'HOSPITAL BUILDING / GROUNDS',\n",
       "       'COMMERCIAL / BUSINESS OFFICE', 'SIDEWALK',\n",
       "       'DRIVEWAY - RESIDENTIAL', 'OTHER (SPECIFY)', 'PARK PROPERTY',\n",
       "       'ALLEY', 'BANK', 'DRUG STORE', 'VEHICLE NON-COMMERCIAL',\n",
       "       'RESIDENCE - YARD (FRONT / BACK)', 'BAR OR TAVERN',\n",
       "       'LAKEFRONT / WATERFRONT / RIVERBANK', 'SCHOOL - PUBLIC BUILDING',\n",
       "       'AIRPORT TERMINAL LOWER LEVEL - SECURE AREA',\n",
       "       'NURSING / RETIREMENT HOME', 'HOTEL / MOTEL', 'CONVENIENCE STORE',\n",
       "       'GAS STATION', 'CTA BUS STOP',\n",
       "       'AIRPORT TERMINAL UPPER LEVEL - NON-SECURE AREA',\n",
       "       'GOVERNMENT BUILDING / PROPERTY', 'TAVERN / LIQUOR STORE',\n",
       "       'CTA PLATFORM', 'COLLEGE / UNIVERSITY - RESIDENCE HALL',\n",
       "       'AIRPORT TERMINAL LOWER LEVEL - NON-SECURE AREA',\n",
       "       'VEHICLE - COMMERCIAL', 'SCHOOL - PUBLIC GROUNDS', 'WAREHOUSE',\n",
       "       'CTA TRAIN', nan, 'CTA BUS', 'ATM (AUTOMATIC TELLER MACHINE)',\n",
       "       'AIRPORT TERMINAL UPPER LEVEL - SECURE AREA', 'CONSTRUCTION SITE',\n",
       "       'AIRPORT BUILDING NON-TERMINAL - NON-SECURE AREA', 'ATHLETIC CLUB',\n",
       "       'CHURCH / SYNAGOGUE / PLACE OF WORSHIP', 'CTA STATION', 'CEMETARY',\n",
       "       'ABANDONED BUILDING', 'VACANT LOT / LAND',\n",
       "       'CHA HALLWAY / STAIRWELL / ELEVATOR', 'OTHER',\n",
       "       'SCHOOL - PRIVATE GROUNDS', 'CHA APARTMENT',\n",
       "       'CTA TRACKS - RIGHT OF WAY', 'GAS STATION DRIVE/PROP.',\n",
       "       'BARBERSHOP', 'BOAT / WATERCRAFT', 'TAXICAB', 'ANIMAL HOSPITAL',\n",
       "       'SCHOOL - PRIVATE BUILDING', 'MEDICAL / DENTAL OFFICE',\n",
       "       'SPORTS ARENA / STADIUM', 'OTHER COMMERCIAL TRANSPORTATION',\n",
       "       'AIRPORT PARKING LOT', 'MOVIE HOUSE / THEATER',\n",
       "       'AIRPORT BUILDING NON-TERMINAL - SECURE AREA',\n",
       "       'CTA PARKING LOT / GARAGE / OTHER PROPERTY', 'DAY CARE CENTER',\n",
       "       'HIGHWAY / EXPRESSWAY', 'FACTORY / MANUFACTURING BUILDING',\n",
       "       'FEDERAL BUILDING', 'HOUSE', 'PAWN SHOP', 'CREDIT UNION',\n",
       "       'AIRCRAFT', 'FIRE STATION', 'COLLEGE / UNIVERSITY - GROUNDS',\n",
       "       'LIBRARY', 'VEHICLE - DELIVERY TRUCK', 'HALLWAY',\n",
       "       'VEHICLE - OTHER RIDE SHARE SERVICE (LYFT, UBER, ETC.)',\n",
       "       'OTHER RAILROAD PROPERTY / TRAIN DEPOT', 'AUTO',\n",
       "       'COIN OPERATED MACHINE', 'AIRPORT EXTERIOR - SECURE AREA',\n",
       "       'CLEANING STORE', 'AIRPORT TRANSPORTATION SYSTEM (ATS)',\n",
       "       'JAIL / LOCK-UP FACILITY', 'BRIDGE',\n",
       "       'AIRPORT EXTERIOR - NON-SECURE AREA',\n",
       "       'AIRPORT VENDING ESTABLISHMENT', 'AIRPORT/AIRCRAFT', 'GARAGE',\n",
       "       'KENNEL', 'YARD', 'FOREST PRESERVE', 'BOWLING ALLEY',\n",
       "       'VEHICLE - COMMERCIAL: ENTERTAINMENT / PARTY BUS', 'GANGWAY',\n",
       "       'AIRPORT TERMINAL MEZZANINE - NON-SECURE AREA', 'RETAIL STORE',\n",
       "       'PORCH', 'DRIVEWAY', 'HOTEL', 'CHA HALLWAY', 'VACANT LOT',\n",
       "       'VEHICLE - COMMERCIAL: TROLLEY BUS', 'CTA SUBWAY STATION',\n",
       "       'GOVERNMENT BUILDING/PROPERTY', 'SCHOOL, PUBLIC, BUILDING',\n",
       "       'STAIRWELL', 'PARKING LOT/GARAGE(NON.RESID.)',\n",
       "       'POLICE FACILITY/VEH PARKING LOT', 'VEHICLE-COMMERCIAL',\n",
       "       'OTHER RAILROAD PROP / TRAIN DEPOT', 'SAVINGS AND LOAN', 'TAVERN',\n",
       "       'VESTIBULE', 'CTA \"L\" TRAIN', 'MEDICAL/DENTAL OFFICE',\n",
       "       'NURSING HOME/RETIREMENT HOME', 'LIQUOR STORE',\n",
       "       'RESIDENCE PORCH/HALLWAY', 'RESIDENTIAL YARD (FRONT/BACK)',\n",
       "       'BEACH', 'HOSPITAL', 'POOL ROOM', 'RESIDENCE-GARAGE', 'OFFICE',\n",
       "       'CHA GROUNDS', 'SCHOOL YARD', 'SCHOOL, PRIVATE, GROUNDS',\n",
       "       'HOTEL/MOTEL', 'SCHOOL, PRIVATE, BUILDING', 'CHA PARKING LOT',\n",
       "       'TRUCK', 'WOODED AREA', 'YMCA', 'CTA PROPERTY',\n",
       "       'EXPRESSWAY EMBANKMENT', 'GARAGE/AUTO REPAIR', 'BANQUET HALL',\n",
       "       'ELEVATOR', 'NURSING HOME', 'BARBER SHOP/BEAUTY SALON',\n",
       "       'CHA STAIRWELL', 'LAGOON', 'MOTEL', 'CTA \"L\" PLATFORM',\n",
       "       'CHA ELEVATOR', 'RAILROAD PROPERTY', 'BASEMENT', 'ROOF', 'CLUB',\n",
       "       'GOVERNMENT BUILDING', 'CHA LOBBY', 'POOLROOM', 'RIVER BANK',\n",
       "       'CHA PLAY LOT', 'CLEANERS/LAUNDROMAT', 'CHURCH', 'TRAILER',\n",
       "       'POLICE FACILITY', 'LAUNDRY ROOM', 'ROOMING HOUSE', 'LAKE',\n",
       "       'PUBLIC GRAMMAR SCHOOL', 'VACANT LOT/LAND',\n",
       "       'CHA PARKING LOT/GROUNDS', 'HOSPITAL BUILDING/GROUNDS',\n",
       "       'TAVERN/LIQUOR STORE', 'CTA GARAGE / OTHER PROPERTY',\n",
       "       'SCHOOL, PUBLIC, GROUNDS', 'MOVIE HOUSE/THEATER',\n",
       "       'CHA HALLWAY/STAIRWELL/ELEVATOR',\n",
       "       'CHURCH/SYNAGOGUE/PLACE OF WORSHIP', 'BOAT/WATERCRAFT',\n",
       "       'FACTORY/MANUFACTURING BUILDING', 'SPORTS ARENA/STADIUM',\n",
       "       'COLLEGE/UNIVERSITY GROUNDS', 'COLLEGE/UNIVERSITY RESIDENCE HALL',\n",
       "       'HIGHWAY/EXPRESSWAY', 'DELIVERY TRUCK',\n",
       "       'LAKEFRONT/WATERFRONT/RIVERBANK', 'NEWSSTAND',\n",
       "       'VEHICLE - OTHER RIDE SERVICE',\n",
       "       'VEHICLE - OTHER RIDE SHARE SERVICE (E.G., UBER, LYFT)',\n",
       "       'VEHICLE-COMMERCIAL - TROLLEY BUS',\n",
       "       'VEHICLE-COMMERCIAL - ENTERTAINMENT/PARTY BUS', 'FARM',\n",
       "       'HORSE STABLE'], dtype=object)"
      ]
     },
     "execution_count": 12,
     "metadata": {},
     "output_type": "execute_result"
    }
   ],
   "source": [
    "#original values of Location Description\n",
    "crimes_cleaned['Location Description'].unique()"
   ]
  },
  {
   "cell_type": "code",
   "execution_count": 13,
   "metadata": {},
   "outputs": [
    {
     "data": {
      "text/html": [
       "<div>\n",
       "<style scoped>\n",
       "    .dataframe tbody tr th:only-of-type {\n",
       "        vertical-align: middle;\n",
       "    }\n",
       "\n",
       "    .dataframe tbody tr th {\n",
       "        vertical-align: top;\n",
       "    }\n",
       "\n",
       "    .dataframe thead th {\n",
       "        text-align: right;\n",
       "    }\n",
       "</style>\n",
       "<table border=\"1\" class=\"dataframe\">\n",
       "  <thead>\n",
       "    <tr style=\"text-align: right;\">\n",
       "      <th></th>\n",
       "      <th>Original Value</th>\n",
       "      <th>New Value</th>\n",
       "    </tr>\n",
       "  </thead>\n",
       "  <tbody>\n",
       "    <tr>\n",
       "      <th>0</th>\n",
       "      <td>RESIDENCE</td>\n",
       "      <td>Residence</td>\n",
       "    </tr>\n",
       "    <tr>\n",
       "      <th>1</th>\n",
       "      <td>OTHER</td>\n",
       "      <td>Other</td>\n",
       "    </tr>\n",
       "    <tr>\n",
       "      <th>2</th>\n",
       "      <td>HOTEL/MOTEL</td>\n",
       "      <td>Hotel/Motel</td>\n",
       "    </tr>\n",
       "    <tr>\n",
       "      <th>3</th>\n",
       "      <td>APARTMENT</td>\n",
       "      <td>Residence</td>\n",
       "    </tr>\n",
       "    <tr>\n",
       "      <th>4</th>\n",
       "      <td>SIDEWALK</td>\n",
       "      <td>Sidewalk</td>\n",
       "    </tr>\n",
       "  </tbody>\n",
       "</table>\n",
       "</div>"
      ],
      "text/plain": [
       "  Original Value    New Value\n",
       "0      RESIDENCE    Residence\n",
       "1          OTHER        Other\n",
       "2    HOTEL/MOTEL  Hotel/Motel\n",
       "3      APARTMENT    Residence\n",
       "4       SIDEWALK     Sidewalk"
      ]
     },
     "execution_count": 13,
     "metadata": {},
     "output_type": "execute_result"
    }
   ],
   "source": [
    "#reading in manual mapping of unique original values to new ones\n",
    "location = pd.read_csv('Data/Location.csv')\n",
    "location.head()"
   ]
  },
  {
   "cell_type": "code",
   "execution_count": 14,
   "metadata": {},
   "outputs": [
    {
     "data": {
      "text/html": [
       "<div>\n",
       "<style scoped>\n",
       "    .dataframe tbody tr th:only-of-type {\n",
       "        vertical-align: middle;\n",
       "    }\n",
       "\n",
       "    .dataframe tbody tr th {\n",
       "        vertical-align: top;\n",
       "    }\n",
       "\n",
       "    .dataframe thead th {\n",
       "        text-align: right;\n",
       "    }\n",
       "</style>\n",
       "<table border=\"1\" class=\"dataframe\">\n",
       "  <thead>\n",
       "    <tr style=\"text-align: right;\">\n",
       "      <th></th>\n",
       "      <th>Date</th>\n",
       "      <th>Primary Type</th>\n",
       "      <th>Arrest</th>\n",
       "      <th>Domestic</th>\n",
       "      <th>Community Area</th>\n",
       "      <th>Year</th>\n",
       "      <th>Latitude</th>\n",
       "      <th>Longitude</th>\n",
       "      <th>Location Description</th>\n",
       "    </tr>\n",
       "  </thead>\n",
       "  <tbody>\n",
       "    <tr>\n",
       "      <th>0</th>\n",
       "      <td>2021-05-24 15:06:00</td>\n",
       "      <td>Homicide</td>\n",
       "      <td>1</td>\n",
       "      <td>False</td>\n",
       "      <td>19.0</td>\n",
       "      <td>2021</td>\n",
       "      <td>41.917838</td>\n",
       "      <td>-87.755969</td>\n",
       "      <td>Street</td>\n",
       "    </tr>\n",
       "    <tr>\n",
       "      <th>1</th>\n",
       "      <td>2021-06-26 09:24:00</td>\n",
       "      <td>Homicide</td>\n",
       "      <td>1</td>\n",
       "      <td>False</td>\n",
       "      <td>13.0</td>\n",
       "      <td>2021</td>\n",
       "      <td>41.995219</td>\n",
       "      <td>-87.713355</td>\n",
       "      <td>Parking Lot</td>\n",
       "    </tr>\n",
       "    <tr>\n",
       "      <th>2</th>\n",
       "      <td>2023-11-09 07:30:00</td>\n",
       "      <td>Burglary</td>\n",
       "      <td>0</td>\n",
       "      <td>False</td>\n",
       "      <td>5.0</td>\n",
       "      <td>2023</td>\n",
       "      <td>41.952345</td>\n",
       "      <td>-87.677975</td>\n",
       "      <td>Residence</td>\n",
       "    </tr>\n",
       "    <tr>\n",
       "      <th>3</th>\n",
       "      <td>2023-11-12 07:59:00</td>\n",
       "      <td>Battery</td>\n",
       "      <td>1</td>\n",
       "      <td>False</td>\n",
       "      <td>44.0</td>\n",
       "      <td>2023</td>\n",
       "      <td>41.737751</td>\n",
       "      <td>-87.604856</td>\n",
       "      <td>Store</td>\n",
       "    </tr>\n",
       "    <tr>\n",
       "      <th>4</th>\n",
       "      <td>2023-09-06 17:00:00</td>\n",
       "      <td>Criminal Damage</td>\n",
       "      <td>0</td>\n",
       "      <td>False</td>\n",
       "      <td>32.0</td>\n",
       "      <td>2023</td>\n",
       "      <td>41.886018</td>\n",
       "      <td>-87.633938</td>\n",
       "      <td>NaN</td>\n",
       "    </tr>\n",
       "  </tbody>\n",
       "</table>\n",
       "</div>"
      ],
      "text/plain": [
       "                 Date     Primary Type  Arrest  Domestic  Community Area  \\\n",
       "0 2021-05-24 15:06:00         Homicide       1     False            19.0   \n",
       "1 2021-06-26 09:24:00         Homicide       1     False            13.0   \n",
       "2 2023-11-09 07:30:00         Burglary       0     False             5.0   \n",
       "3 2023-11-12 07:59:00          Battery       1     False            44.0   \n",
       "4 2023-09-06 17:00:00  Criminal Damage       0     False            32.0   \n",
       "\n",
       "   Year   Latitude  Longitude Location Description  \n",
       "0  2021  41.917838 -87.755969               Street  \n",
       "1  2021  41.995219 -87.713355          Parking Lot  \n",
       "2  2023  41.952345 -87.677975            Residence  \n",
       "3  2023  41.737751 -87.604856                Store  \n",
       "4  2023  41.886018 -87.633938                  NaN  "
      ]
     },
     "execution_count": 14,
     "metadata": {},
     "output_type": "execute_result"
    }
   ],
   "source": [
    "#merging the crimes_cleaned df with the location df \n",
    "crimes_cleaned = crimes_cleaned.merge(location, how='left', \n",
    "                                      left_on='Location Description',\n",
    "                                      right_on='Original Value')\n",
    "\n",
    "#removing the original value columns\n",
    "crimes_cleaned.drop(labels=['Location Description','Original Value'],axis=1,\n",
    "                    inplace=True)\n",
    "\n",
    "#renaming the new value column as Location Description\n",
    "crimes_cleaned.rename(columns={'New Value':'Location Description'}, inplace=True)\n",
    "\n",
    "#displaying the results\n",
    "crimes_cleaned.head()"
   ]
  },
  {
   "cell_type": "markdown",
   "metadata": {},
   "source": [
    "<a id=\"community_areas\">"
   ]
  },
  {
   "cell_type": "markdown",
   "metadata": {},
   "source": [
    "## Pulling in Community Area Names and Regions"
   ]
  },
  {
   "cell_type": "code",
   "execution_count": 15,
   "metadata": {},
   "outputs": [
    {
     "data": {
      "text/html": [
       "<div>\n",
       "<style scoped>\n",
       "    .dataframe tbody tr th:only-of-type {\n",
       "        vertical-align: middle;\n",
       "    }\n",
       "\n",
       "    .dataframe tbody tr th {\n",
       "        vertical-align: top;\n",
       "    }\n",
       "\n",
       "    .dataframe thead th {\n",
       "        text-align: right;\n",
       "    }\n",
       "</style>\n",
       "<table border=\"1\" class=\"dataframe\">\n",
       "  <thead>\n",
       "    <tr style=\"text-align: right;\">\n",
       "      <th></th>\n",
       "      <th>ID</th>\n",
       "      <th>Name</th>\n",
       "      <th>Region</th>\n",
       "      <th>2010 Population</th>\n",
       "    </tr>\n",
       "  </thead>\n",
       "  <tbody>\n",
       "    <tr>\n",
       "      <th>0</th>\n",
       "      <td>8</td>\n",
       "      <td>Near North Side</td>\n",
       "      <td>Central</td>\n",
       "      <td>80484</td>\n",
       "    </tr>\n",
       "    <tr>\n",
       "      <th>1</th>\n",
       "      <td>32</td>\n",
       "      <td>Loop</td>\n",
       "      <td>Central</td>\n",
       "      <td>29283</td>\n",
       "    </tr>\n",
       "    <tr>\n",
       "      <th>2</th>\n",
       "      <td>33</td>\n",
       "      <td>Near South Side</td>\n",
       "      <td>Central</td>\n",
       "      <td>21390</td>\n",
       "    </tr>\n",
       "    <tr>\n",
       "      <th>3</th>\n",
       "      <td>5</td>\n",
       "      <td>North Center</td>\n",
       "      <td>North Side</td>\n",
       "      <td>31867</td>\n",
       "    </tr>\n",
       "    <tr>\n",
       "      <th>4</th>\n",
       "      <td>6</td>\n",
       "      <td>Lake View</td>\n",
       "      <td>North Side</td>\n",
       "      <td>94368</td>\n",
       "    </tr>\n",
       "  </tbody>\n",
       "</table>\n",
       "</div>"
      ],
      "text/plain": [
       "   ID             Name      Region  2010 Population\n",
       "0   8  Near North Side     Central            80484\n",
       "1  32             Loop     Central            29283\n",
       "2  33  Near South Side     Central            21390\n",
       "3   5     North Center  North Side            31867\n",
       "4   6        Lake View  North Side            94368"
      ]
     },
     "execution_count": 15,
     "metadata": {},
     "output_type": "execute_result"
    }
   ],
   "source": [
    "#reading in the mapping of the Community Area ID to the Name and Region\n",
    "#values from Wikipedia\n",
    "community_areas = pd.read_csv('Data/Community_Areas.csv')\n",
    "community_areas.head()"
   ]
  },
  {
   "cell_type": "code",
   "execution_count": 16,
   "metadata": {},
   "outputs": [
    {
     "data": {
      "text/html": [
       "<div>\n",
       "<style scoped>\n",
       "    .dataframe tbody tr th:only-of-type {\n",
       "        vertical-align: middle;\n",
       "    }\n",
       "\n",
       "    .dataframe tbody tr th {\n",
       "        vertical-align: top;\n",
       "    }\n",
       "\n",
       "    .dataframe thead th {\n",
       "        text-align: right;\n",
       "    }\n",
       "</style>\n",
       "<table border=\"1\" class=\"dataframe\">\n",
       "  <thead>\n",
       "    <tr style=\"text-align: right;\">\n",
       "      <th></th>\n",
       "      <th>Date</th>\n",
       "      <th>Primary Type</th>\n",
       "      <th>Arrest</th>\n",
       "      <th>Domestic</th>\n",
       "      <th>Year</th>\n",
       "      <th>Latitude</th>\n",
       "      <th>Longitude</th>\n",
       "      <th>Location Description</th>\n",
       "      <th>Community Area</th>\n",
       "      <th>Region</th>\n",
       "      <th>2010 Population</th>\n",
       "    </tr>\n",
       "  </thead>\n",
       "  <tbody>\n",
       "    <tr>\n",
       "      <th>0</th>\n",
       "      <td>2021-05-24 15:06:00</td>\n",
       "      <td>Homicide</td>\n",
       "      <td>1</td>\n",
       "      <td>False</td>\n",
       "      <td>2021</td>\n",
       "      <td>41.917838</td>\n",
       "      <td>-87.755969</td>\n",
       "      <td>Street</td>\n",
       "      <td>Belmont Cragin</td>\n",
       "      <td>Northwest Side</td>\n",
       "      <td>78743.0</td>\n",
       "    </tr>\n",
       "    <tr>\n",
       "      <th>1</th>\n",
       "      <td>2021-06-26 09:24:00</td>\n",
       "      <td>Homicide</td>\n",
       "      <td>1</td>\n",
       "      <td>False</td>\n",
       "      <td>2021</td>\n",
       "      <td>41.995219</td>\n",
       "      <td>-87.713355</td>\n",
       "      <td>Parking Lot</td>\n",
       "      <td>North Park</td>\n",
       "      <td>Far North Side</td>\n",
       "      <td>17931.0</td>\n",
       "    </tr>\n",
       "    <tr>\n",
       "      <th>2</th>\n",
       "      <td>2023-11-09 07:30:00</td>\n",
       "      <td>Burglary</td>\n",
       "      <td>0</td>\n",
       "      <td>False</td>\n",
       "      <td>2023</td>\n",
       "      <td>41.952345</td>\n",
       "      <td>-87.677975</td>\n",
       "      <td>Residence</td>\n",
       "      <td>North Center</td>\n",
       "      <td>North Side</td>\n",
       "      <td>31867.0</td>\n",
       "    </tr>\n",
       "    <tr>\n",
       "      <th>3</th>\n",
       "      <td>2023-11-12 07:59:00</td>\n",
       "      <td>Battery</td>\n",
       "      <td>1</td>\n",
       "      <td>False</td>\n",
       "      <td>2023</td>\n",
       "      <td>41.737751</td>\n",
       "      <td>-87.604856</td>\n",
       "      <td>Store</td>\n",
       "      <td>Chatham</td>\n",
       "      <td>Far Southeast Side</td>\n",
       "      <td>31028.0</td>\n",
       "    </tr>\n",
       "    <tr>\n",
       "      <th>4</th>\n",
       "      <td>2023-09-06 17:00:00</td>\n",
       "      <td>Criminal Damage</td>\n",
       "      <td>0</td>\n",
       "      <td>False</td>\n",
       "      <td>2023</td>\n",
       "      <td>41.886018</td>\n",
       "      <td>-87.633938</td>\n",
       "      <td>NaN</td>\n",
       "      <td>Loop</td>\n",
       "      <td>Central</td>\n",
       "      <td>29283.0</td>\n",
       "    </tr>\n",
       "  </tbody>\n",
       "</table>\n",
       "</div>"
      ],
      "text/plain": [
       "                 Date     Primary Type  Arrest  Domestic  Year   Latitude  \\\n",
       "0 2021-05-24 15:06:00         Homicide       1     False  2021  41.917838   \n",
       "1 2021-06-26 09:24:00         Homicide       1     False  2021  41.995219   \n",
       "2 2023-11-09 07:30:00         Burglary       0     False  2023  41.952345   \n",
       "3 2023-11-12 07:59:00          Battery       1     False  2023  41.737751   \n",
       "4 2023-09-06 17:00:00  Criminal Damage       0     False  2023  41.886018   \n",
       "\n",
       "   Longitude Location Description  Community Area              Region  \\\n",
       "0 -87.755969               Street  Belmont Cragin      Northwest Side   \n",
       "1 -87.713355          Parking Lot      North Park      Far North Side   \n",
       "2 -87.677975            Residence    North Center          North Side   \n",
       "3 -87.604856                Store         Chatham  Far Southeast Side   \n",
       "4 -87.633938                  NaN            Loop             Central   \n",
       "\n",
       "   2010 Population  \n",
       "0          78743.0  \n",
       "1          17931.0  \n",
       "2          31867.0  \n",
       "3          31028.0  \n",
       "4          29283.0  "
      ]
     },
     "execution_count": 16,
     "metadata": {},
     "output_type": "execute_result"
    }
   ],
   "source": [
    "#merging the community area df with the reduced crimes df\n",
    "crimes_cleaned = crimes_cleaned.merge(community_areas, how='left', \n",
    "                                      left_on='Community Area',\n",
    "                                      right_on='ID')\n",
    "\n",
    "#dropping the ID columns\n",
    "crimes_cleaned.drop(labels=['Community Area','ID'],axis=1,inplace=True)\n",
    "\n",
    "#renaming the Name column as Community Area\n",
    "crimes_cleaned.rename(columns={'Name':'Community Area'}, inplace=True)\n",
    "\n",
    "#displaying the results\n",
    "crimes_cleaned.head()"
   ]
  },
  {
   "cell_type": "markdown",
   "metadata": {},
   "source": [
    "<a id=\"date_columns\">"
   ]
  },
  {
   "cell_type": "markdown",
   "metadata": {},
   "source": [
    "## Creating New Datetime Columns based on the Date of the Crime"
   ]
  },
  {
   "cell_type": "code",
   "execution_count": 17,
   "metadata": {},
   "outputs": [],
   "source": [
    "#adding a column for the month of the crime\n",
    "crimes_cleaned['Month'] = crimes_cleaned.Date.dt.month\n",
    "\n",
    "#adding a column for the day of week of the crime\n",
    "crimes_cleaned['Day of Week'] = crimes_cleaned.Date.dt.day_name()\n",
    "\n",
    "#creating index vars for time of day (morning, afternoon, evening, and night)\n",
    "morning_idx   = (crimes_cleaned.Date.dt.time >= dt.time( 5)) & (crimes_cleaned.Date.dt.time < dt.time(12)) # 5am to 12pm\n",
    "afternoon_idx = (crimes_cleaned.Date.dt.time >= dt.time(10)) & (crimes_cleaned.Date.dt.time < dt.time(17)) #12pm to  5pm\n",
    "evening_idx   = (crimes_cleaned.Date.dt.time >= dt.time(17)) & (crimes_cleaned.Date.dt.time < dt.time(20)) # 5pm to  8pm\n",
    "night_idx     = (crimes_cleaned.Date.dt.time >= dt.time(20)) | (crimes_cleaned.Date.dt.time < dt.time( 5)) # 8pm to  5am\n",
    "\n",
    "#adding a column for the time of day of the crime\n",
    "crimes_cleaned['Time of Day'] = \"\"\n",
    "crimes_cleaned.loc[morning_idx,   'Time of Day'] = \"Morning\"\n",
    "crimes_cleaned.loc[afternoon_idx, 'Time of Day'] = \"Afternoon\"\n",
    "crimes_cleaned.loc[evening_idx,   'Time of Day'] = \"Evening\"\n",
    "crimes_cleaned.loc[night_idx,     'Time of Day'] = \"Night\"\n",
    "\n",
    "#creating index vars for season of year (spring, summer, fall, winter)\n",
    "spring_idx = (crimes_cleaned.Month >=  3) & (crimes_cleaned.Month <  6)\n",
    "summer_idx = (crimes_cleaned.Month >=  6) & (crimes_cleaned.Month <  9)\n",
    "fall_idx   = (crimes_cleaned.Month >=  9) & (crimes_cleaned.Month < 12)\n",
    "winter_idx = (crimes_cleaned.Month >= 12) | (crimes_cleaned.Month <  3)\n",
    "\n",
    "#adding a column for the season the crime occurred in\n",
    "crimes_cleaned['Season'] = \"\"\n",
    "crimes_cleaned.loc[spring_idx, 'Season'] = \"Spring\"\n",
    "crimes_cleaned.loc[summer_idx, 'Season'] = \"Summer\"\n",
    "crimes_cleaned.loc[fall_idx,   'Season'] = \"Fall\"\n",
    "crimes_cleaned.loc[winter_idx, 'Season'] = \"Winter\""
   ]
  },
  {
   "cell_type": "code",
   "execution_count": 18,
   "metadata": {},
   "outputs": [
    {
     "data": {
      "text/html": [
       "<div>\n",
       "<style scoped>\n",
       "    .dataframe tbody tr th:only-of-type {\n",
       "        vertical-align: middle;\n",
       "    }\n",
       "\n",
       "    .dataframe tbody tr th {\n",
       "        vertical-align: top;\n",
       "    }\n",
       "\n",
       "    .dataframe thead th {\n",
       "        text-align: right;\n",
       "    }\n",
       "</style>\n",
       "<table border=\"1\" class=\"dataframe\">\n",
       "  <thead>\n",
       "    <tr style=\"text-align: right;\">\n",
       "      <th></th>\n",
       "      <th>Date</th>\n",
       "      <th>Primary Type</th>\n",
       "      <th>Arrest</th>\n",
       "      <th>Domestic</th>\n",
       "      <th>Year</th>\n",
       "      <th>Latitude</th>\n",
       "      <th>Longitude</th>\n",
       "      <th>Location Description</th>\n",
       "      <th>Community Area</th>\n",
       "      <th>Region</th>\n",
       "      <th>2010 Population</th>\n",
       "      <th>Month</th>\n",
       "      <th>Day of Week</th>\n",
       "      <th>Time of Day</th>\n",
       "      <th>Season</th>\n",
       "    </tr>\n",
       "  </thead>\n",
       "  <tbody>\n",
       "    <tr>\n",
       "      <th>0</th>\n",
       "      <td>2021-05-24 15:06:00</td>\n",
       "      <td>Homicide</td>\n",
       "      <td>1</td>\n",
       "      <td>False</td>\n",
       "      <td>2021</td>\n",
       "      <td>41.917838</td>\n",
       "      <td>-87.755969</td>\n",
       "      <td>Street</td>\n",
       "      <td>Belmont Cragin</td>\n",
       "      <td>Northwest Side</td>\n",
       "      <td>78743.0</td>\n",
       "      <td>5</td>\n",
       "      <td>Monday</td>\n",
       "      <td>Afternoon</td>\n",
       "      <td>Spring</td>\n",
       "    </tr>\n",
       "    <tr>\n",
       "      <th>1</th>\n",
       "      <td>2021-06-26 09:24:00</td>\n",
       "      <td>Homicide</td>\n",
       "      <td>1</td>\n",
       "      <td>False</td>\n",
       "      <td>2021</td>\n",
       "      <td>41.995219</td>\n",
       "      <td>-87.713355</td>\n",
       "      <td>Parking Lot</td>\n",
       "      <td>North Park</td>\n",
       "      <td>Far North Side</td>\n",
       "      <td>17931.0</td>\n",
       "      <td>6</td>\n",
       "      <td>Saturday</td>\n",
       "      <td>Morning</td>\n",
       "      <td>Summer</td>\n",
       "    </tr>\n",
       "    <tr>\n",
       "      <th>2</th>\n",
       "      <td>2023-11-09 07:30:00</td>\n",
       "      <td>Burglary</td>\n",
       "      <td>0</td>\n",
       "      <td>False</td>\n",
       "      <td>2023</td>\n",
       "      <td>41.952345</td>\n",
       "      <td>-87.677975</td>\n",
       "      <td>Residence</td>\n",
       "      <td>North Center</td>\n",
       "      <td>North Side</td>\n",
       "      <td>31867.0</td>\n",
       "      <td>11</td>\n",
       "      <td>Thursday</td>\n",
       "      <td>Morning</td>\n",
       "      <td>Fall</td>\n",
       "    </tr>\n",
       "    <tr>\n",
       "      <th>3</th>\n",
       "      <td>2023-11-12 07:59:00</td>\n",
       "      <td>Battery</td>\n",
       "      <td>1</td>\n",
       "      <td>False</td>\n",
       "      <td>2023</td>\n",
       "      <td>41.737751</td>\n",
       "      <td>-87.604856</td>\n",
       "      <td>Store</td>\n",
       "      <td>Chatham</td>\n",
       "      <td>Far Southeast Side</td>\n",
       "      <td>31028.0</td>\n",
       "      <td>11</td>\n",
       "      <td>Sunday</td>\n",
       "      <td>Morning</td>\n",
       "      <td>Fall</td>\n",
       "    </tr>\n",
       "    <tr>\n",
       "      <th>4</th>\n",
       "      <td>2023-09-06 17:00:00</td>\n",
       "      <td>Criminal Damage</td>\n",
       "      <td>0</td>\n",
       "      <td>False</td>\n",
       "      <td>2023</td>\n",
       "      <td>41.886018</td>\n",
       "      <td>-87.633938</td>\n",
       "      <td>NaN</td>\n",
       "      <td>Loop</td>\n",
       "      <td>Central</td>\n",
       "      <td>29283.0</td>\n",
       "      <td>9</td>\n",
       "      <td>Wednesday</td>\n",
       "      <td>Evening</td>\n",
       "      <td>Fall</td>\n",
       "    </tr>\n",
       "  </tbody>\n",
       "</table>\n",
       "</div>"
      ],
      "text/plain": [
       "                 Date     Primary Type  Arrest  Domestic  Year   Latitude  \\\n",
       "0 2021-05-24 15:06:00         Homicide       1     False  2021  41.917838   \n",
       "1 2021-06-26 09:24:00         Homicide       1     False  2021  41.995219   \n",
       "2 2023-11-09 07:30:00         Burglary       0     False  2023  41.952345   \n",
       "3 2023-11-12 07:59:00          Battery       1     False  2023  41.737751   \n",
       "4 2023-09-06 17:00:00  Criminal Damage       0     False  2023  41.886018   \n",
       "\n",
       "   Longitude Location Description  Community Area              Region  \\\n",
       "0 -87.755969               Street  Belmont Cragin      Northwest Side   \n",
       "1 -87.713355          Parking Lot      North Park      Far North Side   \n",
       "2 -87.677975            Residence    North Center          North Side   \n",
       "3 -87.604856                Store         Chatham  Far Southeast Side   \n",
       "4 -87.633938                  NaN            Loop             Central   \n",
       "\n",
       "   2010 Population  Month Day of Week Time of Day  Season  \n",
       "0          78743.0      5      Monday   Afternoon  Spring  \n",
       "1          17931.0      6    Saturday     Morning  Summer  \n",
       "2          31867.0     11    Thursday     Morning    Fall  \n",
       "3          31028.0     11      Sunday     Morning    Fall  \n",
       "4          29283.0      9   Wednesday     Evening    Fall  "
      ]
     },
     "execution_count": 18,
     "metadata": {},
     "output_type": "execute_result"
    }
   ],
   "source": [
    "crimes_cleaned.head()"
   ]
  },
  {
   "cell_type": "markdown",
   "metadata": {},
   "source": [
    "<a id=\"saving\">"
   ]
  },
  {
   "cell_type": "markdown",
   "metadata": {},
   "source": [
    "<a id=\"nulls\">"
   ]
  },
  {
   "cell_type": "markdown",
   "metadata": {},
   "source": [
    "## Dropping Nulls from the Dataset\n",
    "Because of the relatively small number of rows with null values, I'm going to drop all rows with nulls."
   ]
  },
  {
   "cell_type": "code",
   "execution_count": 19,
   "metadata": {
    "scrolled": true
   },
   "outputs": [
    {
     "name": "stdout",
     "output_type": "stream",
     "text": [
      "Number of Rows: 2,615,025\n",
      "\n",
      "Date has 0 nulls\n",
      "Primary Type has 0 nulls\n",
      "Arrest has 0 nulls\n",
      "Domestic has 0 nulls\n",
      "Year has 0 nulls\n",
      "Latitude has 38,952 nulls\n",
      "Longitude has 38,952 nulls\n",
      "Location Description has 144,466 nulls\n",
      "Community Area has 2 nulls\n",
      "Region has 2 nulls\n",
      "2010 Population has 2 nulls\n",
      "Month has 0 nulls\n",
      "Day of Week has 0 nulls\n",
      "Time of Day has 0 nulls\n",
      "Season has 0 nulls\n"
     ]
    }
   ],
   "source": [
    "print(\"Number of Rows: {:,d}\".format(crimes_cleaned.shape[0]))\n",
    "print()\n",
    "for col in crimes_cleaned.columns:\n",
    "    print(\"{} has {:,d} nulls\".format(col,crimes_cleaned[col].isna().sum()))"
   ]
  },
  {
   "cell_type": "code",
   "execution_count": 20,
   "metadata": {},
   "outputs": [
    {
     "name": "stdout",
     "output_type": "stream",
     "text": [
      "Number of Rows: 2,439,089\n",
      "\n",
      "Date has 0 nulls\n",
      "Primary Type has 0 nulls\n",
      "Arrest has 0 nulls\n",
      "Domestic has 0 nulls\n",
      "Year has 0 nulls\n",
      "Latitude has 0 nulls\n",
      "Longitude has 0 nulls\n",
      "Location Description has 0 nulls\n",
      "Community Area has 0 nulls\n",
      "Region has 0 nulls\n",
      "2010 Population has 0 nulls\n",
      "Month has 0 nulls\n",
      "Day of Week has 0 nulls\n",
      "Time of Day has 0 nulls\n",
      "Season has 0 nulls\n"
     ]
    }
   ],
   "source": [
    "crimes_cleaned.dropna(inplace=True,axis=0)\n",
    "\n",
    "print(\"Number of Rows: {:,d}\".format(crimes_cleaned.shape[0]))\n",
    "print()\n",
    "for col in crimes_cleaned.columns:\n",
    "    print(\"{} has {:,d} nulls\".format(col,crimes_cleaned[col].isna().sum()))"
   ]
  },
  {
   "cell_type": "markdown",
   "metadata": {},
   "source": [
    "## Saving the Cleaned Dataset"
   ]
  },
  {
   "cell_type": "code",
   "execution_count": 21,
   "metadata": {},
   "outputs": [],
   "source": [
    "crimes_cleaned.to_csv(\"Data/crimes_cleaned.csv\", index=False)"
   ]
  }
 ],
 "metadata": {
  "kernelspec": {
   "display_name": "Python 3 (ipykernel)",
   "language": "python",
   "name": "python3"
  },
  "language_info": {
   "codemirror_mode": {
    "name": "ipython",
    "version": 3
   },
   "file_extension": ".py",
   "mimetype": "text/x-python",
   "name": "python",
   "nbconvert_exporter": "python",
   "pygments_lexer": "ipython3",
   "version": "3.11.0"
  }
 },
 "nbformat": 4,
 "nbformat_minor": 2
}
